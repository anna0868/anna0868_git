{
 "cells": [
  {
   "cell_type": "markdown",
   "metadata": {},
   "source": [
    "# 1. 학습 알고리즘 구현하기 (2층 신경망)\n",
    "# 신경망 학습 절차 \n",
    "전체 \n",
    "  신경망에는 적응 가능한 가중치와 편향이 있고, 이 가중치와 편향을 훈련 데이터에 적응하도록 조정하는 과정을 '학습' 이라한다. 신경망 학습은 다음과 같은 4단게\n",
    "  \n",
    "1단계 - 미니배치 (batch_size, length, |V})\n",
    "\n",
    "  훈련 데이터 중 일부를 무작위로 가져옴. 이렇게 선별한 데이터를 미니배치라 하며, 그 미니배치의 손실함수 값을 줄이는 것이 목표\n",
    "  \n",
    "2단계 - 기울기 산출 \n",
    "\n",
    "  미니배치의 손실함수 값을 줄이기 위해 각 가중치 매개변수의 기울기를 구한다. 기울기는 손실 함수 값을 가장 작게 하는 방향을 제시\n",
    "  \n",
    "3단계 - 매개변수 갱신 \n",
    "\n",
    "  가중치 매개변수를 기울기 방향으로 아주 조금 갱신\n",
    "  \n",
    "4단계 - 반복\n",
    "\n",
    "  1~3 단계 반복"
   ]
  },
  {
   "cell_type": "code",
   "execution_count": 3,
   "metadata": {},
   "outputs": [],
   "source": [
    "# coding: utf-8\n",
    "import sys, os\n",
    "sys.path.append(os.pardir)  # 부모 디렉터리의 파일을 가져올 수 있도록 설정\n",
    "from functions import *\n",
    "from gradient import numerical_gradient\n",
    "\n",
    "\n",
    "class TwoLayerNet:\n",
    "\n",
    "    def __init__(self, input_size, hidden_size, output_size, weight_init_std=0.01):\n",
    "        # 가중치 초기화\n",
    "        self.params = {}\n",
    "        self.params['W1'] = weight_init_std * np.random.randn(input_size, hidden_size)\n",
    "        self.params['b1'] = np.zeros(hidden_size)\n",
    "        self.params['W2'] = weight_init_std * np.random.randn(hidden_size, output_size)\n",
    "        self.params['b2'] = np.zeros(output_size)\n",
    "\n",
    "    def predict(self, x):\n",
    "        W1, W2 = self.params['W1'], self.params['W2']\n",
    "        b1, b2 = self.params['b1'], self.params['b2']\n",
    "    \n",
    "        a1 = np.dot(x, W1) + b1\n",
    "        z1 = sigmoid(a1)\n",
    "        a2 = np.dot(z1, W2) + b2\n",
    "        y = softmax(a2)\n",
    "        \n",
    "        return y\n",
    "        \n",
    "    # x : 입력 데이터, t : 정답 레이블\n",
    "    def loss(self, x, t):\n",
    "        y = self.predict(x)\n",
    "        \n",
    "        return cross_entropy_error(y, t)\n",
    "    \n",
    "    def accuracy(self, x, t):\n",
    "        y = self.predict(x)\n",
    "        y = np.argmax(y, axis=1)\n",
    "        t = np.argmax(t, axis=1)\n",
    "        \n",
    "        accuracy = np.sum(y == t) / float(x.shape[0])\n",
    "        return accuracy\n",
    "    \n",
    "    \n",
    "############## 수치미분으로 기울기 구하는 방법\n",
    "\n",
    "# x : 입력 데이터, t : 정답 레이블\n",
    "    def numerical_gradient(self, x, t):\n",
    "        loss_W = lambda W: self.loss(x, t)\n",
    "        \n",
    "        grads = {}\n",
    "        grads['W1'] = numerical_gradient(loss_W, self.params['W1'])\n",
    "        grads['b1'] = numerical_gradient(loss_W, self.params['b1'])\n",
    "        grads['W2'] = numerical_gradient(loss_W, self.params['W2'])\n",
    "        grads['b2'] = numerical_gradient(loss_W, self.params['b2'])\n",
    "        \n",
    "        return grads\n",
    "        \n",
    "############## 오차역전법으로 기울기 구하는 방법\n",
    "\n",
    "#     def gradient(self, x, t):\n",
    "#         W1, W2 = self.params['W1'], self.params['W2']\n",
    "#         b1, b2 = self.params['b1'], self.params['b2']\n",
    "#         grads = {}\n",
    "        \n",
    "#         batch_num = x.shape[0]\n",
    "        \n",
    "#         # forward\n",
    "#         a1 = np.dot(x, W1) + b1\n",
    "#         z1 = sigmoid(a1)\n",
    "#         a2 = np.dot(z1, W2) + b2\n",
    "#         y = softmax(a2)\n",
    "        \n",
    "#         # backward\n",
    "#         dy = (y - t) / batch_num\n",
    "#         grads['W2'] = np.dot(z1.T, dy)\n",
    "#         grads['b2'] = np.sum(dy, axis=0)\n",
    "        \n",
    "#         da1 = np.dot(dy, W2.T)\n",
    "#         dz1 = sigmoid_grad(a1) * da1\n",
    "#         grads['W1'] = np.dot(x.T, dz1)\n",
    "#         grads['b1'] = np.sum(dz1, axis=0)\n",
    "\n",
    "#         return grads\n"
   ]
  },
  {
   "cell_type": "markdown",
   "metadata": {},
   "source": [
    "## np.argmax (x, axis=1) , axis=1 : 열에서 max"
   ]
  },
  {
   "cell_type": "markdown",
   "metadata": {},
   "source": [
    "# TwoLayerNet 테스트"
   ]
  },
  {
   "cell_type": "code",
   "execution_count": 5,
   "metadata": {},
   "outputs": [],
   "source": [
    "net = TwoLayerNet(784, 100, 10)"
   ]
  },
  {
   "cell_type": "code",
   "execution_count": 7,
   "metadata": {},
   "outputs": [
    {
     "name": "stdout",
     "output_type": "stream",
     "text": [
      "net.params['W1'].shape :  (784, 100)\n",
      "net.params['b1'].shape :  (100,)\n",
      "net.params['W2'].shape :  (100, 10)\n",
      "net.params['b2'].shape :  (10,)\n"
     ]
    }
   ],
   "source": [
    "print(\"net.params['W1'].shape : \", net.params['W1'].shape)\n",
    "print(\"net.params['b1'].shape : \", net.params['b1'].shape)\n",
    "print(\"net.params['W2'].shape : \", net.params['W2'].shape)\n",
    "print(\"net.params['b2'].shape : \", net.params['b2'].shape)"
   ]
  },
  {
   "cell_type": "code",
   "execution_count": 8,
   "metadata": {},
   "outputs": [],
   "source": [
    "x = np.random.rand(100,784) # 100장 분장의 mini batch (즉 batch_size 가 100)"
   ]
  },
  {
   "cell_type": "code",
   "execution_count": 11,
   "metadata": {},
   "outputs": [],
   "source": [
    "y = net.predict(x) # 예측값\n",
    "t = np.random.rand(100,10)"
   ]
  },
  {
   "cell_type": "code",
   "execution_count": 12,
   "metadata": {},
   "outputs": [
    {
     "name": "stdout",
     "output_type": "stream",
     "text": [
      "grads['W1'].shape :  (784, 100)\n",
      "grads['b1'].shape :  (100,)\n",
      "grads['W2'].shape :  (100, 10)\n",
      "grads['b2'].shape :  (10,)\n"
     ]
    }
   ],
   "source": [
    "grads = net.numerical_gradient(x,t)\n",
    "\n",
    "print(\"grads['W1'].shape : \", grads['W1'].shape)\n",
    "print(\"grads['b1'].shape : \", grads['b1'].shape)\n",
    "print(\"grads['W2'].shape : \", grads['W2'].shape)\n",
    "print(\"grads['b2'].shape : \", grads['b2'].shape)"
   ]
  },
  {
   "cell_type": "code",
   "execution_count": 15,
   "metadata": {},
   "outputs": [
    {
     "name": "stdout",
     "output_type": "stream",
     "text": [
      "[1] []\n"
     ]
    }
   ],
   "source": []
  },
  {
   "cell_type": "markdown",
   "metadata": {},
   "source": [
    "# 2. 미니배치 학습 구현하기 "
   ]
  },
  {
   "cell_type": "code",
   "execution_count": null,
   "metadata": {},
   "outputs": [],
   "source": [
    "import numpy as np \n",
    "from mnist import load_mnist\n",
    "\n",
    "(x_train, t_train), (x_test, t_test) = load_mnist(normalize=True, one_hot_label=True)\n",
    "train_loss_list = []\n",
    "\n",
    "# 하이퍼파라미터\n",
    "iters_num = 100 \n",
    "train_size = x_train.shape[0]\n",
    "batch_size = 100 # 미니 배치 크기\n",
    "learning_rate = 0.1\n",
    "\n",
    "network = TwoLayerNet(784,50,10)\n",
    "\n",
    "\n",
    "\n",
    "for i in range(iters_num) :\n",
    "    # 미니배치 획득\n",
    "    #    print(np.random.choice(500, 3))    ---->   [393 229 471]\n",
    "    batch_mask = np.random.choice(train_size, batch_size)\n",
    "    # batch_mask는 train_size 60000까지 숫자 숭에 100개를 랜덤 선택해 list 생성     \n",
    "    # print(batch_mask) \n",
    "    \n",
    "    # x_batch.shape : (100, 784) \n",
    "    # t_batch.shape : (100, 10)\n",
    "    ########################################################################### 1단계. 미니배치 생성\n",
    "    x_batch = x_train[batch_mask]\n",
    "    t_batch = t_train[batch_mask]\n",
    "    #print(t_batch.shape)\n",
    "    \n",
    "    \n",
    "    ########################################################################### 2단계. 기울기 계산\n",
    "    grad = network.numerical_gradient(x_batch, t_batch)\n",
    "    # grad = network.gradient(x_batch, t_batch)\n",
    "    \n",
    "    ########################################################################### 3단계. 매개변수 갱신\n",
    "    for key in ('W1','b1','W2','b2') :\n",
    "        network.params[key] -= learning_rate * grad[key]\n",
    "\n",
    "    # 학습 경과 기록\n",
    "    loss = network.loss(x_batch, t_batch)\n",
    "    train_loss_list.append(loss)\n",
    "        \n",
    "    "
   ]
  },
  {
   "cell_type": "code",
   "execution_count": 34,
   "metadata": {},
   "outputs": [
    {
     "name": "stdout",
     "output_type": "stream",
     "text": [
      "x_train.shape   :    (60000, 784)\n",
      "x_train[[0]].shape   :    (1, 784)\n",
      "x_train[[0,1,2,3]]  :  \n",
      " [[0. 0. 0. ... 0. 0. 0.]\n",
      " [0. 0. 0. ... 0. 0. 0.]\n",
      " [0. 0. 0. ... 0. 0. 0.]\n",
      " [0. 0. 0. ... 0. 0. 0.]]\n"
     ]
    }
   ],
   "source": [
    "print(\"x_train.shape   :   \",x_train.shape)\n",
    "print(\"x_train[[0]].shape   :   \",x_train[[0]].shape)\n",
    "print(\"x_train[[0,1,2,3]]  :  \\n\", x_train[[0,1,2,3]])"
   ]
  },
  {
   "cell_type": "code",
   "execution_count": null,
   "metadata": {},
   "outputs": [],
   "source": [
    "print(train_loss_list)"
   ]
  },
  {
   "cell_type": "code",
   "execution_count": null,
   "metadata": {},
   "outputs": [],
   "source": []
  }
 ],
 "metadata": {
  "kernelspec": {
   "display_name": "PyTorch 1.4 on Python 3.6 (CUDA 10.1)",
   "language": "python",
   "name": "python3"
  },
  "language_info": {
   "codemirror_mode": {
    "name": "ipython",
    "version": 3
   },
   "file_extension": ".py",
   "mimetype": "text/x-python",
   "name": "python",
   "nbconvert_exporter": "python",
   "pygments_lexer": "ipython3",
   "version": "3.6.9"
  }
 },
 "nbformat": 4,
 "nbformat_minor": 4
}
