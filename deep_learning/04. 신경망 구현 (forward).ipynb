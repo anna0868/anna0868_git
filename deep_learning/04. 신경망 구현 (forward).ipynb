{
 "cells": [
  {
   "cell_type": "markdown",
   "metadata": {},
   "source": [
    "# 다차원 배열의 차원 수 "
   ]
  },
  {
   "cell_type": "code",
   "execution_count": 2,
   "metadata": {},
   "outputs": [
    {
     "name": "stdout",
     "output_type": "stream",
     "text": [
      "[[1 2]\n",
      " [2 3]\n",
      " [3 4]]\n",
      " 차원 수 : np.ndim(A): 2\n",
      "A.shape :  (3, 2)\n"
     ]
    }
   ],
   "source": [
    "import numpy as np\n",
    "A = np.array([[1,2],[2,3],[3,4]])\n",
    "print(A)\n",
    "print(\" 차원 수 : np.ndim(A):\", np.ndim(A))\n",
    "print(\"A.shape : \", A.shape)"
   ]
  },
  {
   "cell_type": "code",
   "execution_count": 3,
   "metadata": {},
   "outputs": [
    {
     "name": "stdout",
     "output_type": "stream",
     "text": [
      "[[[1 1]\n",
      "  [1 1]\n",
      "  [1 1]]\n",
      "\n",
      " [[2 2]\n",
      "  [2 2]\n",
      "  [2 2]]]\n",
      " 차원 수 : np.ndim(B): 3\n",
      "B.shape :  (2, 3, 2)\n"
     ]
    }
   ],
   "source": [
    "B = np.array([[[1,1],[1,1],[1,1]],[[2,2],[2,2],[2,2]]])\n",
    "print(B)\n",
    "print(\" 차원 수 : np.ndim(B):\", np.ndim(B))\n",
    "print(\"B.shape : \", B.shape)"
   ]
  },
  {
   "cell_type": "markdown",
   "metadata": {},
   "source": [
    "# 신경망 구현하기 (FORWARD 만)"
   ]
  },
  {
   "cell_type": "code",
   "execution_count": 15,
   "metadata": {},
   "outputs": [],
   "source": [
    "def sigmoid(x):\n",
    "    return 1/(1+np.exp(-x))"
   ]
  },
  {
   "cell_type": "code",
   "execution_count": 16,
   "metadata": {},
   "outputs": [
    {
     "name": "stdout",
     "output_type": "stream",
     "text": [
      "X.shape :  (2,)\n",
      "W1.shape :  (2, 3)\n",
      "B1.shape :  (3,)\n",
      "A1.shape :  (3,)\n",
      "Z1.shape :  (3,)\n",
      " ##중요## : W1의 shape은 X(입력)의 갯수, A1(출력)의 갯수 \n",
      " ##중요## : B1(편향)의 shape은 출력의 shape (출력갯수) 가 동일 \n",
      "\n",
      " ##중요## : 열이 갯수 ################################### \n"
     ]
    }
   ],
   "source": [
    "X = np.array([1.0, 0.5])\n",
    "W1 = np.array([[0.1,0.3,0.5], [0.2,0.4,0.6]])\n",
    "B1 = np.array([0.1,0.2,0.3])\n",
    "\n",
    "print(\"X.shape : \",X.shape)\n",
    "print(\"W1.shape : \",W1.shape)\n",
    "print(\"B1.shape : \",B1.shape)\n",
    "\n",
    "A1 = np.dot(X, W1) + B1\n",
    "Z1 = sigmoid(A1)\n",
    "print(\"A1.shape : \",A1.shape)\n",
    "print(\"Z1.shape : \",Z1.shape)\n",
    "\n",
    "print(\" ##중요## : W1의 shape은 X(입력)의 갯수, A1(출력)의 갯수 \")\n",
    "print(\" ##중요## : B1(편향)의 shape은 출력의 shape (출력갯수) 가 동일 \")\n",
    "print(\"\\n ##중요## : 열이 갯수 ################################### \")"
   ]
  },
  {
   "cell_type": "code",
   "execution_count": 17,
   "metadata": {},
   "outputs": [
    {
     "name": "stdout",
     "output_type": "stream",
     "text": [
      "[0.57444252 0.66818777 0.75026011]\n"
     ]
    }
   ],
   "source": [
    "print(Z1)"
   ]
  },
  {
   "cell_type": "code",
   "execution_count": 18,
   "metadata": {},
   "outputs": [
    {
     "name": "stdout",
     "output_type": "stream",
     "text": [
      "[0.62624937 0.7710107 ]\n"
     ]
    }
   ],
   "source": [
    "W2 = np.array([[0.1,0.4],[0.2,0.5],[0.3,0.6]])\n",
    "B2 = np.array([0.1,0.2])\n",
    "\n",
    "A2 = np.dot(Z1,W2) +B2\n",
    "Z2 =sigmoid(A2)\n",
    "\n",
    "print(Z2)"
   ]
  },
  {
   "cell_type": "code",
   "execution_count": 20,
   "metadata": {},
   "outputs": [
    {
     "name": "stdout",
     "output_type": "stream",
     "text": [
      " ##중요## : 출력함수의 활성화 함수 구현 (출력층의 활성화 함수는 은닉층과 다름)\n",
      "최종 OUTPUT :  [0.31682708 0.69627909]\n"
     ]
    }
   ],
   "source": [
    "print(\" ##중요## : 출력함수의 활성화 함수 구현 (출력층의 활성화 함수는 은닉층과 다름)\")\n",
    "def identity_func(x):\n",
    "    return x\n",
    "\n",
    "W3 = np.array([[0.1,0.3],[0.2,0.4]])\n",
    "B3 = np.array([0.1,0.2])\n",
    "\n",
    "A3 = np.dot(Z2,W3) + B3\n",
    "Z3 = identity_func(A3)\n",
    "print(\"최종 OUTPUT : \", Z3)"
   ]
  },
  {
   "cell_type": "code",
   "execution_count": null,
   "metadata": {},
   "outputs": [],
   "source": []
  },
  {
   "cell_type": "code",
   "execution_count": null,
   "metadata": {},
   "outputs": [],
   "source": []
  },
  {
   "cell_type": "markdown",
   "metadata": {},
   "source": [
    "# 신경망 FORWARD 구현을 모듈화"
   ]
  },
  {
   "cell_type": "code",
   "execution_count": 22,
   "metadata": {},
   "outputs": [
    {
     "name": "stdout",
     "output_type": "stream",
     "text": [
      "[0.31682708 0.69627909]\n"
     ]
    }
   ],
   "source": [
    "import numpy as np\n",
    "def init_network():\n",
    "    network = {}\n",
    "    network['W1'] =  np.array([[0.1,0.3,0.5], [0.2,0.4,0.6]])\n",
    "    network['B1'] =  np.array([0.1,0.2,0.3])\n",
    "    network['W2'] =  np.array([[0.1,0.4],[0.2,0.5],[0.3,0.6]])\n",
    "    network['B2'] =  np.array([0.1,0.2])    \n",
    "    network['W3'] =  np.array([[0.1,0.3],[0.2,0.4]])\n",
    "    network['B3'] =  np.array([0.1,0.2])\n",
    "    \n",
    "    return network\n",
    "    \n",
    "def func(x,w,b):\n",
    "    return sigmoid(np.dot(x,w)+b)\n",
    "    \n",
    "def sigmoid(x):\n",
    "    return 1/(1+np.exp(-x))\n",
    "\n",
    "def identity_func(x):\n",
    "    return x\n",
    "\n",
    "def forward(network, x):\n",
    "    W1, W2, W3 = network['W1'], network['W2'], network['W3']\n",
    "    B1, B2, B3 = network['B1'], network['B2'], network['B3']\n",
    "    \n",
    "    y = identity_func( np.dot(func(func(x,W1,B1),W2,B2),W3) + B3 )\n",
    "    return y\n",
    "\n",
    "network = init_network()\n",
    "x = np.array([1.0,0.5])\n",
    "\n",
    "y = forward(network,x)\n",
    "print(y)\n",
    "\n",
    "\n",
    "    "
   ]
  },
  {
   "cell_type": "code",
   "execution_count": null,
   "metadata": {},
   "outputs": [],
   "source": []
  }
 ],
 "metadata": {
  "kernelspec": {
   "display_name": "PyTorch 1.4 on Python 3.6 (CUDA 10.1)",
   "language": "python",
   "name": "python3"
  },
  "language_info": {
   "codemirror_mode": {
    "name": "ipython",
    "version": 3
   },
   "file_extension": ".py",
   "mimetype": "text/x-python",
   "name": "python",
   "nbconvert_exporter": "python",
   "pygments_lexer": "ipython3",
   "version": "3.6.9"
  }
 },
 "nbformat": 4,
 "nbformat_minor": 4
}
